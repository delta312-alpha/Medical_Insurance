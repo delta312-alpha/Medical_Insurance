{
 "cells": [
  {
   "cell_type": "markdown",
   "metadata": {},
   "source": [
    "# U.S. Medical Insurance Costs"
   ]
  },
  {
   "cell_type": "code",
   "execution_count": 1,
   "metadata": {},
   "outputs": [],
   "source": [
    "import csv"
   ]
  },
  {
   "cell_type": "code",
   "execution_count": 2,
   "metadata": {},
   "outputs": [],
   "source": [
    "age = []\n",
    "sex = []\n",
    "bmi = []\n",
    "children = []\n",
    "smoker = []\n",
    "region = []\n",
    "charges = []\n",
    "with open('insurance.csv') as insurance_file:\n",
    "    insurance_csv = csv.DictReader(insurance_file)\n",
    "    for insurance_row in insurance_csv:\n",
    "        age.append(insurance_row['age'])\n",
    "        sex.append(insurance_row['sex'])\n",
    "        bmi.append(insurance_row['bmi'])\n",
    "        children.append(insurance_row['children'])\n",
    "        smoker.append(insurance_row['smoker'])\n",
    "        region.append(insurance_row['region'])\n",
    "        charges.append(insurance_row['charges'])"
   ]
  },
  {
   "cell_type": "code",
   "execution_count": 3,
   "metadata": {},
   "outputs": [],
   "source": [
    "def average_age(age):\n",
    "    total_age = 0\n",
    "    average_age = 0\n",
    "    for year in age:\n",
    "        total_age += int(year)\n",
    "    average_age = total_age/len(age)\n",
    "    return average_age"
   ]
  },
  {
   "cell_type": "code",
   "execution_count": 4,
   "metadata": {},
   "outputs": [
    {
     "data": {
      "text/plain": [
       "39.20702541106129"
      ]
     },
     "execution_count": 4,
     "metadata": {},
     "output_type": "execute_result"
    }
   ],
   "source": [
    "av_age = average_age(age)\n",
    "av_age"
   ]
  },
  {
   "cell_type": "code",
   "execution_count": 5,
   "metadata": {},
   "outputs": [],
   "source": [
    "def region_counter(region):\n",
    "    region_dic ={}\n",
    "    for area in region:\n",
    "        if area not in region_dic.keys():\n",
    "            region_dic[area] = 1\n",
    "        else:\n",
    "            region_dic[area] += 1\n",
    "    return region_dic"
   ]
  },
  {
   "cell_type": "code",
   "execution_count": 6,
   "metadata": {},
   "outputs": [
    {
     "data": {
      "text/plain": [
       "{'southwest': 325, 'southeast': 364, 'northwest': 325, 'northeast': 324}"
      ]
     },
     "execution_count": 6,
     "metadata": {},
     "output_type": "execute_result"
    }
   ],
   "source": [
    "region_dic = region_counter(region)\n",
    "region_dic"
   ]
  },
  {
   "cell_type": "code",
   "execution_count": 11,
   "metadata": {},
   "outputs": [],
   "source": [
    "def price_analysis(smoker,charges):\n",
    "    smoker_total = 0\n",
    "    smokers = []\n",
    "    non_smoker_total = 0\n",
    "    non_smokers = []\n",
    "    lst = list(zip(smoker, charges))\n",
    "    for element in lst:\n",
    "        if element[0] == 'no':\n",
    "            non_smoker_total += float(element[1])\n",
    "            non_smokers.append(element)\n",
    "        else:\n",
    "            smoker_total += float(element[1])\n",
    "            smokers.append(element)\n",
    "    non_smoker_average = non_smoker_total/len(non_smokers)\n",
    "    smoker_average = smoker_total/len(smokers)\n",
    "    difference = smoker_average- non_smoker_average\n",
    "    return ('Non-smoker pays '+str(non_smoker_average)+ ' dollars on average, smoker pays '+ str(smoker_average)+ ' dollars on average and the difference is '+ str(difference)+ ' dollars.')\n",
    "    "
   ]
  },
  {
   "cell_type": "code",
   "execution_count": 12,
   "metadata": {},
   "outputs": [
    {
     "data": {
      "text/plain": [
       "'Non-smoker pays 8434.268297856199 dollars on average, smoker pays 32050.23183153285 dollars on average and the difference is 23615.96353367665 dollars.'"
      ]
     },
     "execution_count": 12,
     "metadata": {},
     "output_type": "execute_result"
    }
   ],
   "source": [
    "price_analysis(smoker,charges)"
   ]
  },
  {
   "cell_type": "code",
   "execution_count": 17,
   "metadata": {},
   "outputs": [],
   "source": [
    "def fvsm(sex):\n",
    "    fcount = 0\n",
    "    mcount = 0\n",
    "    for person in sex:\n",
    "        if person =='female':\n",
    "            fcount+=1\n",
    "        else:\n",
    "            mcount+=1 \n",
    "    return ('gender ratio: '+ str(mcount/fcount) +' to one')\n",
    "        "
   ]
  },
  {
   "cell_type": "code",
   "execution_count": 18,
   "metadata": {},
   "outputs": [
    {
     "data": {
      "text/plain": [
       "'gender ratio: 1.0211480362537764 to one'"
      ]
     },
     "execution_count": 18,
     "metadata": {},
     "output_type": "execute_result"
    }
   ],
   "source": [
    "fvsm(sex)"
   ]
  },
  {
   "cell_type": "code",
   "execution_count": 19,
   "metadata": {},
   "outputs": [],
   "source": [
    "def childfree(children):\n",
    "    people_with_children = 0\n",
    "    without_children = 0\n",
    "    for num in children:\n",
    "        if num == str(0):\n",
    "            without_children +=1\n",
    "        else:\n",
    "            people_with_children +=1 \n",
    "    return ('There are '+ str(people_with_children)+ ' people with children and '+ str(without_children)+ ' people without children.')"
   ]
  },
  {
   "cell_type": "code",
   "execution_count": 20,
   "metadata": {},
   "outputs": [
    {
     "data": {
      "text/plain": [
       "'There are 764 people with children and 574 people without children.'"
      ]
     },
     "execution_count": 20,
     "metadata": {},
     "output_type": "execute_result"
    }
   ],
   "source": [
    "childfree(children)"
   ]
  },
  {
   "cell_type": "code",
   "execution_count": 21,
   "metadata": {},
   "outputs": [],
   "source": [
    "def bmi_indexing(bmi):\n",
    "    obesity = []\n",
    "    for index in bmi:\n",
    "        index = float(index)\n",
    "        if index < 18.5:\n",
    "            obesity.append('underweight')\n",
    "        elif index>=18.5 and index<25:\n",
    "            obesity.append('normal weight')\n",
    "        elif index>=24.9 and index<30:\n",
    "            obesity.append('pre-obesity')\n",
    "        elif index>=30 and index<35:\n",
    "            obesity.append('obesity class I')\n",
    "        elif index>=35 and index<40:\n",
    "            obesity.append('obesity class II')\n",
    "        else:\n",
    "            obesity.append('obesity class III')\n",
    "    \n",
    "    obesity_dic ={}\n",
    "    for weight in obesity:\n",
    "        if weight not in obesity_dic.keys():\n",
    "            obesity_dic[weight] = 1\n",
    "        else:\n",
    "            obesity_dic[weight] += 1\n",
    "    return obesity_dic\n",
    "            \n",
    "\n"
   ]
  },
  {
   "cell_type": "code",
   "execution_count": 22,
   "metadata": {},
   "outputs": [],
   "source": [
    "obesity = bmi_indexing(bmi)"
   ]
  },
  {
   "cell_type": "code",
   "execution_count": 23,
   "metadata": {},
   "outputs": [
    {
     "data": {
      "text/plain": [
       "{'pre-obesity': 386,\n",
       " 'obesity class I': 391,\n",
       " 'normal weight': 225,\n",
       " 'obesity class II': 225,\n",
       " 'obesity class III': 91,\n",
       " 'underweight': 20}"
      ]
     },
     "execution_count": 23,
     "metadata": {},
     "output_type": "execute_result"
    }
   ],
   "source": [
    "obesity"
   ]
  },
  {
   "cell_type": "code",
   "execution_count": null,
   "metadata": {},
   "outputs": [],
   "source": []
  }
 ],
 "metadata": {
  "kernelspec": {
   "display_name": "Python 3",
   "language": "python",
   "name": "python3"
  },
  "language_info": {
   "codemirror_mode": {
    "name": "ipython",
    "version": 3
   },
   "file_extension": ".py",
   "mimetype": "text/x-python",
   "name": "python",
   "nbconvert_exporter": "python",
   "pygments_lexer": "ipython3",
   "version": "3.8.3"
  }
 },
 "nbformat": 4,
 "nbformat_minor": 4
}
